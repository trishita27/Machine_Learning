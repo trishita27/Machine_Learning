{
 "cells": [
  {
   "cell_type": "code",
   "execution_count": 27,
   "metadata": {},
   "outputs": [],
   "source": [
    "import pandas as pd\n",
    "dataset=pd.read_csv('Salary_Data.csv') #loading the dataset\n",
    "X=dataset.iloc[: , : -1].values  #x is the independent variable which takes all rows and all columns except the last one\n",
    "Y=dataset.iloc[: , 1].values #y is the dependant variable which takes all rows of the colum with index=1(i.e the salary column)"
   ]
  },
  {
   "cell_type": "code",
   "execution_count": 16,
   "metadata": {},
   "outputs": [],
   "source": [
    "# Splitting the data into training and testing sets\n",
    "from sklearn.model_selection import train_test_split\n",
    "X_train, X_test,Y_train, Y_test=train_test_split(X,Y,test_size=1/3, random_state=0)  #1/3rd of the data will be used for testing"
   ]
  },
  {
   "cell_type": "code",
   "execution_count": 28,
   "metadata": {},
   "outputs": [
    {
     "data": {
      "text/plain": [
       "LinearRegression()"
      ]
     },
     "execution_count": 28,
     "metadata": {},
     "output_type": "execute_result"
    }
   ],
   "source": [
    "# Fitting Simple Linear Regression to Training Data\n",
    "from sklearn.linear_model import LinearRegression\n",
    "regressor = LinearRegression()\n",
    "regressor.fit(X_train, Y_train)"
   ]
  },
  {
   "cell_type": "code",
   "execution_count": 17,
   "metadata": {},
   "outputs": [
    {
     "name": "stdout",
     "output_type": "stream",
     "text": [
      "Original data [ 37731. 122391.  57081.  63218. 116969. 109431. 112635.  55794.  83088.\n",
      " 101302.]\n",
      "Predicted data [ 40505.31003719 123478.08165811  65019.99256156  63134.24775199\n",
      " 115935.10241985 108392.12318158 116877.97482463  64077.12015677\n",
      "  76334.46141895 100849.14394332]\n"
     ]
    }
   ],
   "source": [
    "# Making predictions using trained regressor\n",
    "Y_pred=regressor.predict(X_test)\n",
    "print('Original data: ',Y_test)\n",
    "print('Predicted data: ',Y_pred)"
   ]
  },
  {
   "cell_type": "code",
   "execution_count": 25,
   "metadata": {},
   "outputs": [
    {
     "data": {
      "image/png": "[encoded data removed]",
      "text/plain": [
       "<Figure size 432x288 with 1 Axes>"
      ]
     },
     "metadata": {
      "needs_background": "light"
     },
     "output_type": "display_data"
    }
   ],
   "source": [
    "# Visualizing the training set\n",
    "import matplotlib.pyplot as plt\n",
    "plt.scatter(X_train,Y_train,color='red') #plots actual data points of training set\n",
    "plt.plot(X_train,regressor.predict(X_train),color='blue')  #plots a line of the predicted values of Y using X_train\n",
    "plt.title('Salary vs Experience (Training set)')\n",
    "plt.xlabel('Years of Experience')\n",
    "plt.ylabel('Salary')\n",
    "plt.show()"
   ]
  },
  {
   "cell_type": "code",
   "execution_count": 32,
   "metadata": {},
   "outputs": [
    {
     "name": "stdout",
     "output_type": "stream",
     "text": [
      "10\n",
      "The predicted salary of a person with  10  years experience is  [120275.61667525]\n"
     ]
    }
   ],
   "source": [
    "# Making predictions\n",
    "yr=int(input())\n",
    "salary_pred=regressor.predict([[yr]])\n",
    "print('The predicted salary of a person with ',yr,' years experience is ',salary_pred)"
   ]
  }
 ],
 "metadata": {
  "kernelspec": {
   "display_name": "Python 3",
   "language": "python",
   "name": "python3"
  },
  "language_info": {
   "codemirror_mode": {
    "name": "ipython",
    "version": 3
   },
   "file_extension": ".py",
   "mimetype": "text/x-python",
   "name": "python",
   "nbconvert_exporter": "python",
   "pygments_lexer": "ipython3",
   "version": "3.7.4"
  }
 },
 "nbformat": 4,
 "nbformat_minor": 4
}
